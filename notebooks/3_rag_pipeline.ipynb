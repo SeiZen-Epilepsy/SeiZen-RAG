{
 "cells": [
  {
   "metadata": {},
   "cell_type": "markdown",
   "source": [
    "# Notebook 3 (Diperbarui): Pipeline RAG dan Generasi Jawaban (dengan Azure Embeddings)\n",
    "\n",
    "Tujuan notebook ini adalah untuk:\n",
    "1. Memuat vector store (ChromaDB) yang telah diisi dari Notebook 2 (menggunakan Azure Embeddings).\n",
    "2. Menginisialisasi LLM (Model Bahasa Besar - contoh menggunakan ChatOpenAI standar).\n",
    "3. Membuat retriever dari vector store.\n",
    "4. Membangun RAG chain (pipeline) menggunakan LangChain.\n",
    "5. Mengajukan pertanyaan, mengambil dokumen relevan (dari semua PDF), dan menghasilkan jawaban.\n",
    "6. Menampilkan sumber dokumen dengan lebih jelas."
   ],
   "id": "35a5b8572b6cf878"
  },
  {
   "metadata": {},
   "cell_type": "markdown",
   "source": "# 1. Import library",
   "id": "3ad9768d6afe76b6"
  },
  {
   "cell_type": "code",
   "id": "initial_id",
   "metadata": {
    "collapsed": true,
    "ExecuteTime": {
     "end_time": "2025-05-25T13:17:31.362815Z",
     "start_time": "2025-05-25T13:17:31.352296Z"
    }
   },
   "source": [
    "import os\n",
    "from dotenv import load_dotenv\n",
    "\n",
    "from langchain_openai import AzureOpenAIEmbeddings\n",
    "from langchain_openai import ChatOpenAI\n",
    "\n",
    "from langchain_chroma import Chroma\n",
    "from langchain.chains import RetrievalQA\n",
    "from langchain.prompts import PromptTemplate\n",
    "from langchain_core.runnables import RunnablePassthrough\n",
    "from langchain_core.output_parsers import StrOutputParser"
   ],
   "outputs": [],
   "execution_count": 10
  },
  {
   "metadata": {},
   "cell_type": "markdown",
   "source": "# 2. Load env",
   "id": "22e0edaa39cf14"
  },
  {
   "metadata": {
    "ExecuteTime": {
     "end_time": "2025-05-25T13:18:36.457073Z",
     "start_time": "2025-05-25T13:18:36.434780Z"
    }
   },
   "cell_type": "code",
   "source": "load_dotenv()",
   "id": "aa0cc57bc8a4e1c",
   "outputs": [
    {
     "data": {
      "text/plain": [
       "True"
      ]
     },
     "execution_count": 12,
     "metadata": {},
     "output_type": "execute_result"
    }
   ],
   "execution_count": 12
  },
  {
   "metadata": {
    "ExecuteTime": {
     "end_time": "2025-05-25T13:18:37.925234Z",
     "start_time": "2025-05-25T13:18:37.909710Z"
    }
   },
   "cell_type": "code",
   "source": [
    "azure_openai_endpoint = os.getenv(\"AZURE_OPENAI_ENDPOINT\")\n",
    "azure_openai_api_key_embedding = os.getenv(\"AZURE_OPENAI_API_KEY\")\n",
    "azure_openai_embedding_deployment = os.getenv(\"AZURE_OPENAI_EMBEDDING_DEPLOYMENT_NAME\")\n",
    "azure_openai_api_version_embedding = os.getenv(\"AZURE_OPENAI_API_VERSION\", \"2024-02-01\")\n",
    "\n",
    "if not all([azure_openai_endpoint, azure_openai_api_key_embedding, azure_openai_embedding_deployment]):\n",
    "    print(\"ERROR: Satu atau lebih variabel environment Azure OpenAI untuk Embeddings (ENDPOINT, API_KEY, EMBEDDING_DEPLOYMENT_NAME) tidak ditemukan.\")\n",
    "    print(\"Ini diperlukan untuk memuat vector store yang dibuat dengan Azure Embeddings.\")\n",
    "else:\n",
    "    print(\"Variabel environment Azure OpenAI Embeddings berhasil dimuat.\")"
   ],
   "id": "e6089c04e3b9170",
   "outputs": [
    {
     "name": "stdout",
     "output_type": "stream",
     "text": [
      "Variabel environment Azure OpenAI Embeddings berhasil dimuat.\n"
     ]
    }
   ],
   "execution_count": 13
  },
  {
   "metadata": {
    "ExecuteTime": {
     "end_time": "2025-05-25T13:18:57.421488Z",
     "start_time": "2025-05-25T13:18:57.409139Z"
    }
   },
   "cell_type": "code",
   "source": [
    "openrouter_api_key = os.getenv(\"OPENROUTER_API_KEY\")\n",
    "openrouter_model_name = os.getenv(\"OPENROUTER_MODEL_NAME\")\n",
    "\n",
    "if not openrouter_api_key:\n",
    "    print(\"ERROR: OPENROUTER_API_KEY tidak ditemukan. Pastikan file .env sudah benar.\")\n",
    "else:\n",
    "    print(\"Variabel environment OpenRouter berhasil dimuat.\")"
   ],
   "id": "61ea63b901997f6d",
   "outputs": [
    {
     "name": "stdout",
     "output_type": "stream",
     "text": [
      "Variabel environment OpenRouter berhasil dimuat.\n"
     ]
    }
   ],
   "execution_count": 14
  },
  {
   "metadata": {},
   "cell_type": "markdown",
   "source": "# 3. Init embedding model & Load vector store",
   "id": "d7b0d7a399f6ea8b"
  },
  {
   "metadata": {
    "ExecuteTime": {
     "end_time": "2025-05-25T13:19:19.863335Z",
     "start_time": "2025-05-25T13:19:17.804003Z"
    }
   },
   "cell_type": "code",
   "source": [
    "current_notebook_dir = os.getcwd()\n",
    "project_root = os.path.dirname(current_notebook_dir)\n",
    "\n",
    "# Sesuaikan jika Anda mengubah nama direktori/koleksi di Notebook 2\n",
    "vector_store_dir = os.path.join(project_root, \"vector_store\", \"chroma_db_azure_multi\")\n",
    "collection_name = \"rag_azure_multi_pdf_collection\"\n",
    "\n",
    "embeddings_model_azure = None # Inisialisasi untuk Azure Embeddings\n",
    "vector_store = None\n",
    "\n",
    "if all([azure_openai_endpoint, azure_openai_api_key_embedding, azure_openai_embedding_deployment]):\n",
    "    try:\n",
    "        embeddings_model_azure = AzureOpenAIEmbeddings(\n",
    "            azure_endpoint=azure_openai_endpoint,\n",
    "            openai_api_key=azure_openai_api_key_embedding,\n",
    "            azure_deployment=azure_openai_embedding_deployment,\n",
    "            openai_api_version=azure_openai_api_version_embedding,\n",
    "        )\n",
    "        print(f\"Model Azure OpenAI Embeddings ('{azure_openai_embedding_deployment}') berhasil diinisialisasi untuk memuat store.\")\n",
    "\n",
    "        if os.path.exists(vector_store_dir) and os.path.exists(os.path.join(vector_store_dir, \"chroma.sqlite3\")): # Cek lebih spesifik\n",
    "            print(f\"Mencoba memuat ChromaDB dari: {vector_store_dir} dengan koleksi: {collection_name}\")\n",
    "            vector_store = Chroma(\n",
    "                collection_name=collection_name,\n",
    "                embedding_function=embeddings_model_azure, # Menggunakan Azure embeddings\n",
    "                persist_directory=vector_store_dir\n",
    "            )\n",
    "            print(f\"ChromaDB vector store (dibuat dengan Azure Embeddings) berhasil dimuat.\")\n",
    "        else:\n",
    "            print(f\"ERROR: Direktori/file ChromaDB tidak ditemukan di {vector_store_dir} untuk koleksi {collection_name}.\")\n",
    "            print(\"Pastikan Anda sudah menjalankan Notebook 2 (yang sudah diupdate dengan Azure) untuk membuat dan mengisi vector store.\")\n",
    "\n",
    "    except Exception as e:\n",
    "        print(f\"Error saat menginisialisasi Azure Embeddings atau memuat vector store: {e}\")\n",
    "else:\n",
    "    print(\"Tidak dapat melanjutkan karena konfigurasi Azure OpenAI Embeddings tidak lengkap.\")\n"
   ],
   "id": "fec48e7709e03fd1",
   "outputs": [
    {
     "name": "stdout",
     "output_type": "stream",
     "text": [
      "Model Azure OpenAI Embeddings ('text-embedding-3-small') berhasil diinisialisasi untuk memuat store.\n",
      "Mencoba memuat ChromaDB dari: D:\\Zulfi\\CodeLabs\\SeiZen\\SeiZen-RAG\\vector_store\\chroma_db_azure_multi dengan koleksi: rag_azure_multi_pdf_collection\n",
      "ChromaDB vector store (dibuat dengan Azure Embeddings) berhasil dimuat.\n"
     ]
    }
   ],
   "execution_count": 15
  },
  {
   "metadata": {},
   "cell_type": "markdown",
   "source": "# 4. Init LLM",
   "id": "56446b7db465f1ad"
  },
  {
   "metadata": {
    "ExecuteTime": {
     "end_time": "2025-05-25T13:20:24.624986Z",
     "start_time": "2025-05-25T13:20:24.130Z"
    }
   },
   "cell_type": "code",
   "source": [
    "llm = None\n",
    "if openrouter_api_key: # Menggunakan kunci API OpenRouter untuk LLM\n",
    "    try:\n",
    "        llm = ChatOpenAI(\n",
    "            openai_api_key=openrouter_api_key,\n",
    "            base_url=\"https://openrouter.ai/api/v1\",\n",
    "            model_name=openrouter_model_name,\n",
    "            temperature=0.3,\n",
    "        )\n",
    "        print(f\"LLM OpenRouter ({llm.model_name}) berhasil diinisialisasi.\")\n",
    "    except Exception as e:\n",
    "        print(f\"Error saat menginisialisasi LLM OpenRouter: {e}\")\n",
    "else:\n",
    "    print(\"Tidak dapat menginisialisasi LLM OpenRouter karena API Key tidak ditemukan.\")\n"
   ],
   "id": "d07e1498b38e713c",
   "outputs": [
    {
     "name": "stdout",
     "output_type": "stream",
     "text": [
      "LLM OpenRouter (deepseek/deepseek-chat-v3-0324:free) berhasil diinisialisasi.\n"
     ]
    }
   ],
   "execution_count": 16
  },
  {
   "metadata": {},
   "cell_type": "markdown",
   "source": "# 5. Creating retriever",
   "id": "87ad50691fd8635d"
  },
  {
   "metadata": {
    "ExecuteTime": {
     "end_time": "2025-05-25T13:21:21.934939Z",
     "start_time": "2025-05-25T13:21:21.920400Z"
    }
   },
   "cell_type": "code",
   "source": [
    "retriever = None\n",
    "if vector_store:\n",
    "    try:\n",
    "        retriever = vector_store.as_retriever(\n",
    "            search_type=\"similarity\",\n",
    "            search_kwargs={\"k\": 4} # Ambil 4 dokumen teratas untuk konteks yang lebih banyak\n",
    "        )\n",
    "        print(\"Retriever berhasil dibuat dari vector store (yang menggunakan Azure Embeddings).\")\n",
    "    except Exception as e:\n",
    "        print(f\"Error saat membuat retriever: {e}\")\n",
    "else:\n",
    "    print(\"Tidak dapat membuat retriever karena vector store tidak tersedia.\")"
   ],
   "id": "79c7f79fefc6b096",
   "outputs": [
    {
     "name": "stdout",
     "output_type": "stream",
     "text": [
      "Retriever berhasil dibuat dari vector store (yang menggunakan Azure Embeddings).\n"
     ]
    }
   ],
   "execution_count": 17
  },
  {
   "metadata": {},
   "cell_type": "markdown",
   "source": "# 6. Creating RAG pipeline",
   "id": "8f1f761f6d7e8e66"
  },
  {
   "metadata": {
    "ExecuteTime": {
     "end_time": "2025-05-25T13:23:56.471955Z",
     "start_time": "2025-05-25T13:23:56.449080Z"
    }
   },
   "cell_type": "code",
   "source": [
    "rag_chain_lcel = None\n",
    "if retriever and llm:\n",
    "    prompt_template_str = \"\"\"\n",
    "    You are a very helpful AI assistant. Use the following context to answer user questions. The context comes from various documents. Answer the questions solely based on the provided context. If the information is not available in the context, say you cannot find the answer in the provided documents. Try to keep your answers concise and to the point. If possible and relevant, mention from which source document the information comes (use metadata 'source').\n",
    "\n",
    "    Context:{context}\n",
    "\n",
    "    Question:{question}\n",
    "\n",
    "    Answer (based on the above context):\n",
    "    \"\"\"\n",
    "    prompt = PromptTemplate.from_template(prompt_template_str)\n",
    "\n",
    "    def format_docs_for_context(docs):\n",
    "        formatted_docs = []\n",
    "        for i, doc in enumerate(docs):\n",
    "            formatted_docs.append(doc.page_content)\n",
    "        return \"\\n\\n---\\n\\n\".join(formatted_docs)\n",
    "\n",
    "    rag_chain_lcel = (\n",
    "        {\"question\": RunnablePassthrough()}\n",
    "        | RunnablePassthrough.assign(\n",
    "            context_docs=lambda x: retriever.invoke(x[\"question\"])\n",
    "          )\n",
    "        | RunnablePassthrough.assign(\n",
    "            context=lambda x: format_docs_for_context(x[\"context_docs\"])\n",
    "          )\n",
    "        | prompt\n",
    "        | llm\n",
    "        | StrOutputParser()\n",
    "    )\n",
    "\n",
    "    print(\"RAG Chain (LCEL) dengan OpenRouter LLM berhasil dibuat.\")\n",
    "\n",
    "else:\n",
    "    print(\"Tidak dapat membuat RAG chain karena retriever atau LLM tidak tersedia.\")"
   ],
   "id": "998176bfc770a344",
   "outputs": [
    {
     "name": "stdout",
     "output_type": "stream",
     "text": [
      "RAG Chain (LCEL) dengan OpenRouter LLM berhasil dibuat.\n"
     ]
    }
   ],
   "execution_count": 18
  },
  {
   "metadata": {},
   "cell_type": "markdown",
   "source": "## Testing question",
   "id": "2f7b669af53047fd"
  },
  {
   "metadata": {
    "ExecuteTime": {
     "end_time": "2025-05-25T13:29:32.028805Z",
     "start_time": "2025-05-25T13:28:55.526844Z"
    }
   },
   "cell_type": "code",
   "source": [
    "if rag_chain_lcel:\n",
    "    questions = [\n",
    "        \"What is the correlation of epilepsy stigma in Indonesia?\",\n",
    "        # \"Explain self-supervised learning.\",\n",
    "        # \"Are there any mentions of 'transformer architecture' in the documents?\"\n",
    "    ]\n",
    "\n",
    "    for user_question in questions:\n",
    "        print(f\"\\n===========================================\")\n",
    "        print(f\"Pertanyaan Pengguna: {user_question}\")\n",
    "        print(\"===========================================\")\n",
    "\n",
    "        try:\n",
    "            relevant_docs = retriever.invoke(user_question)\n",
    "            answer = rag_chain_lcel.invoke(user_question)\n",
    "\n",
    "            print(f\"\\nJawaban dari RAG Chain (OpenRouter LLM):\")\n",
    "            print(answer)\n",
    "\n",
    "            if relevant_docs:\n",
    "                print(\"\\nDokumen Sumber Relevan yang Ditemukan oleh Retriever (menggunakan Azure Embeddings):\")\n",
    "                for i, doc in enumerate(relevant_docs):\n",
    "                    source_file = doc.metadata.get('source', 'Tidak diketahui')\n",
    "                    page_number = doc.metadata.get('page', 'N/A')\n",
    "                    print(f\"  {i+1}. Sumber: {source_file}, Halaman: {page_number}\")\n",
    "                    print(f\"     Kutipan: {doc.page_content[:150].strip()}...\")\n",
    "            else:\n",
    "                print(\"\\nTidak ada dokumen sumber relevan yang ditemukan oleh retriever.\")\n",
    "\n",
    "        except Exception as e:\n",
    "            print(f\"Error saat menjalankan RAG chain untuk pertanyaan '{user_question}': {e}\")\n",
    "            import traceback\n",
    "            traceback.print_exc()\n",
    "else:\n",
    "    print(\"Tidak dapat mengajukan pertanyaan karena RAG chain tidak terinisialisasi.\")"
   ],
   "id": "e8cbf37a69f07918",
   "outputs": [
    {
     "name": "stdout",
     "output_type": "stream",
     "text": [
      "\n",
      "===========================================\n",
      "Pertanyaan Pengguna: What is the correlation of epilepsy stigma in Indonesia?\n",
      "===========================================\n",
      "\n",
      "Jawaban dari RAG Chain (OpenRouter LLM):\n",
      "Based on the provided context, the correlation of epilepsy stigma in Indonesia is influenced by the widespread misconceptions and wrong assumptions about the disease. Many Indonesians believe that epilepsy is a contagious, hereditary disease and a curse, which leads to social exclusion, reproach, and suffering for the affected individuals. This stigma is exacerbated by the lack of understanding of the condition's true medical nature (Indian Journal of Public Health Research & Development, March 2020, Vol. 11, No. 03). \n",
      "\n",
      "The stigma results in social consequences such as rejection and cleansing of the affected individuals by the community, adding to their burden beyond the medical symptoms of the disease. The high level of stigma is linked to the lack of awareness and education about epilepsy in Indonesia. \n",
      "\n",
      "(Source: Indian Journal of Public Health Research & Development, March 2020, Vol. 11, No. 03).\n",
      "\n",
      "Dokumen Sumber Relevan yang Ditemukan oleh Retriever (menggunakan Azure Embeddings):\n",
      "  1. Sumber: ojsadmin,+207.pdf, Halaman: 0\n",
      "     Kutipan: Indian Journal of Public Health Research & Development, March 2020, Vol. 11, No. 03  1107\n",
      "The Correlation Factors on \n",
      "Epilepsy Stigma amongst People i...\n",
      "  2. Sumber: ojsadmin,+207.pdf, Halaman: 0\n",
      "     Kutipan: Indian Journal of Public Health Research & Development, March 2020, Vol. 11, No. 03  1107\n",
      "The Correlation Factors on \n",
      "Epilepsy Stigma amongst People i...\n",
      "  3. Sumber: ojsadmin,+207.pdf, Halaman: 1\n",
      "     Kutipan: magnetic resonance imaging of the primary site is \n",
      "useful particularly in advanced disease; and computed \n",
      "tomography and positron emission tomography...\n",
      "  4. Sumber: ojsadmin,+207.pdf, Halaman: 1\n",
      "     Kutipan: magnetic resonance imaging of the primary site is \n",
      "useful particularly in advanced disease; and computed \n",
      "tomography and positron emission tomography...\n"
     ]
    }
   ],
   "execution_count": 21
  }
 ],
 "metadata": {
  "kernelspec": {
   "display_name": "Python 3",
   "language": "python",
   "name": "python3"
  },
  "language_info": {
   "codemirror_mode": {
    "name": "ipython",
    "version": 2
   },
   "file_extension": ".py",
   "mimetype": "text/x-python",
   "name": "python",
   "nbconvert_exporter": "python",
   "pygments_lexer": "ipython2",
   "version": "2.7.6"
  }
 },
 "nbformat": 4,
 "nbformat_minor": 5
}
