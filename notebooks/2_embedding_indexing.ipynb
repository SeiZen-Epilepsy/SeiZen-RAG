{
  "cells": [
    {
      "cell_type": "markdown",
      "id": "3b22e012f2fd7c71",
      "metadata": {},
      "source": [
        "# Notebook 2: Pembuatan Embedding dan Indexing ke ChromaDB (Multi-PDF)\n",
        "\n",
        "Tujuan notebook ini adalah untuk:\n",
        "1. Mengambil chunks teks yang telah diproses dari Notebook 1 (dari semua PDF).\n",
        "2. Menginisialisasi model embedding (OpenAI).\n",
        "3. Membuat embedding untuk setiap chunk.\n",
        "4. Menginisialisasi ChromaDB sebagai vector store.\n",
        "5. Menyimpan (mengindeks) chunks beserta embeddingnya ke ChromaDB.\n",
        "6. Melakukan tes pencarian sederhana."
      ]
    },
    {
      "cell_type": "markdown",
      "id": "9e98c91feab51364",
      "metadata": {},
      "source": [
        "## 1. Import library"
      ]
    },
    {
      "cell_type": "code",
      "execution_count": 9,
      "id": "initial_id",
      "metadata": {
        "collapsed": true
      },
      "outputs": [],
      "source": [
        "import os\n",
        "import pickle\n",
        "import shutil\n",
        "from dotenv import load_dotenv\n",
        "import tiktoken\n",
        "\n",
        "from langchain_openai import AzureOpenAIEmbeddings\n",
        "from langchain_community.vectorstores import Chroma\n",
        "from langchain_core.documents import Document"
      ]
    },
    {
      "cell_type": "code",
      "execution_count": 2,
      "id": "e8588e4149bf299e",
      "metadata": {},
      "outputs": [
        {
          "name": "stdout",
          "output_type": "stream",
          "text": [
            "Variabel environment Azure OpenAI berhasil dimuat.\n",
            "OpenAI API Key (standar) berhasil dimuat.\n"
          ]
        }
      ],
      "source": [
        "load_dotenv()\n",
        "\n",
        "azure_openai_endpoint = os.getenv(\"AZURE_OPENAI_ENDPOINT\")\n",
        "azure_openai_api_key = os.getenv(\"AZURE_OPENAI_API_KEY\")\n",
        "azure_openai_embedding_deployment = os.getenv(\"AZURE_OPENAI_EMBEDDING_DEPLOYMENT_NAME\")\n",
        "azure_openai_api_version = os.getenv(\"AZURE_OPENAI_API_VERSION\", \"2024-02-01\")\n",
        "openai_api_key_standard = os.getenv(\"OPENAI_API_KEY\")\n",
        "\n",
        "if not all([azure_openai_endpoint, azure_openai_api_key, azure_openai_embedding_deployment]):\n",
        "    print(\"ERROR: Satu atau lebih variabel environment Azure OpenAI (ENDPOINT, API_KEY, EMBEDDING_DEPLOYMENT_NAME) tidak ditemukan.\")\n",
        "    print(\"Pastikan file .env Anda sudah dikonfigurasi dengan benar untuk Azure.\")\n",
        "else:\n",
        "    print(\"Variabel environment Azure OpenAI berhasil dimuat.\")\n",
        "\n",
        "if not openai_api_key_standard:\n",
        "    print(\"INFO: OPENAI_API_KEY (standar) tidak ditemukan. Ini mungkin dibutuhkan untuk LLM di Notebook 3 jika tidak menggunakan Azure LLM.\")\n",
        "else:\n",
        "    print(\"OpenAI API Key (standar) berhasil dimuat.\")"
      ]
    },
    {
      "cell_type": "code",
      "execution_count": 3,
      "id": "256ebf6e9f92c8f8",
      "metadata": {},
      "outputs": [],
      "source": [
        "current_dir = os.getcwd()\n",
        "project_root = os.path.dirname(current_dir)\n",
        "chunk_dir = os.path.join(current_dir, \"chunk_files\")\n",
        "chunk_file_names = [file for file in os.listdir(chunk_dir) if file.lower().endswith(\".pkl\")]"
      ]
    },
    {
      "cell_type": "code",
      "execution_count": 4,
      "id": "adce3a23b869d107",
      "metadata": {},
      "outputs": [
        {
          "name": "stdout",
          "output_type": "stream",
          "text": [
            "Mencari direktori chunks di: d:\\Zulfi\\CodeLabs\\SeiZen\\SeiZen-RAG\\notebooks\\chunk_files\n",
            "File .pkl yang ditemukan di d:\\Zulfi\\CodeLabs\\SeiZen\\SeiZen-RAG\\notebooks\\chunk_files: ['processed_chunks_multi_pdf.pkl']\n",
            "Akan mencoba memuat file chunks: d:\\Zulfi\\CodeLabs\\SeiZen\\SeiZen-RAG\\notebooks\\chunk_files\\processed_chunks_multi_pdf.pkl\n",
            "Berhasil memuat 206 chunks dari d:\\Zulfi\\CodeLabs\\SeiZen\\SeiZen-RAG\\notebooks\\chunk_files\\processed_chunks_multi_pdf.pkl\n",
            "Contoh metadata chunk pertama yang dimuat: {'producer': 'Adobe PDF Library 9.0', 'creator': 'Adobe InDesign CS4 (6.0)', 'creationdate': '2020-06-03T12:10:59+05:30', 'moddate': '2020-06-03T12:11:10+05:30', 'source': 'ojsadmin,+207.pdf', 'total_pages': 6, 'page': 0, 'page_label': '1'}\n"
          ]
        }
      ],
      "source": [
        "all_chunks = [] # Inisialisasi\n",
        "chunks_file_path_to_load = None # Path ke file pickle yang akan dimuat\n",
        "\n",
        "print(f\"Mencari direktori chunks di: {chunk_dir}\")\n",
        "\n",
        "if os.path.isdir(chunk_dir):\n",
        "    try:\n",
        "        # Dapatkan daftar semua file .pkl di dalam chunk_dir\n",
        "        chunk_file_names = [file for file in os.listdir(chunk_dir) if file.lower().endswith(\".pkl\")]\n",
        "        print(f\"File .pkl yang ditemukan di {chunk_dir}: {chunk_file_names}\")\n",
        "\n",
        "        if chunk_file_names:\n",
        "            # Memuat file .pkl pertama yang ditemukan\n",
        "            file_to_load = chunk_file_names[0]\n",
        "            chunks_file_path_to_load = os.path.join(chunk_dir, file_to_load)\n",
        "            print(f\"Akan mencoba memuat file chunks: {chunks_file_path_to_load}\")\n",
        "        else:\n",
        "            print(f\"Tidak ada file .pkl yang ditemukan di direktori {chunk_dir}.\")\n",
        "\n",
        "    except FileNotFoundError:\n",
        "        print(f\"ERROR: Direktori chunks {chunk_dir} tidak ditemukan saat mencoba listdir.\")\n",
        "    except Exception as e:\n",
        "        print(f\"Error saat mengakses direktori chunks {chunk_dir}: {e}\")\n",
        "else:\n",
        "    print(f\"ERROR: Direktori chunks {chunk_dir} tidak ditemukan.\")\n",
        "\n",
        "\n",
        "if chunks_file_path_to_load and os.path.exists(chunks_file_path_to_load):\n",
        "    try:\n",
        "        with open(chunks_file_path_to_load, \"rb\") as f:\n",
        "            all_chunks = pickle.load(f)\n",
        "        print(f\"Berhasil memuat {len(all_chunks)} chunks dari {chunks_file_path_to_load}\")\n",
        "        if all_chunks:\n",
        "            print(f\"Contoh metadata chunk pertama yang dimuat: {all_chunks[0].metadata}\")\n",
        "    except Exception as e:\n",
        "        print(f\"Error saat memuat chunks dari pickle {chunks_file_path_to_load}: {e}\")\n",
        "        all_chunks = []\n",
        "elif chunks_file_path_to_load:\n",
        "     print(f\"File chunks {chunks_file_path_to_load} terdefinisi tapi tidak ditemukan.\")\n",
        "else:\n",
        "    print(f\"Tidak ada file pickle yang valid untuk dimuat berdasarkan kriteria.\")\n",
        "\n",
        "\n",
        "if not all_chunks:\n",
        "    print(\"\\nPERINGATAN: `all_chunks` kosong atau tidak berhasil dimuat.\")\n",
        "    print(\"Pastikan Notebook 1 (yang sudah diupdate) telah dijalankan dan menyimpan outputnya dengan benar\")\n",
        "    print(f\"di dalam direktori '{chunk_dir}'.\")"
      ]
    },
    {
      "cell_type": "code",
      "execution_count": 5,
      "id": "d670f875f3b26d75",
      "metadata": {},
      "outputs": [
        {
          "name": "stdout",
          "output_type": "stream",
          "text": [
            "Tokenizer 'cl100k_base' berhasil dimuat.\n",
            "\n",
            "Total Estimasi Token untuk semua 206 chunks: 53886 tokens\n",
            "Estimasi biaya embedding (text-embedding-ada-002 @ $0.0004/1k tokens): $0.021554\n",
            "Estimasi biaya embedding (text-embedding-3-small @ $0.0001/1k tokens): $0.005389\n",
            "PERHATIAN: Estimasi biaya ini adalah perkiraan kasar. Selalu periksa harga resmi dari penyedia layanan Anda (OpenAI/Azure).\n"
          ]
        }
      ],
      "source": [
        "if all_chunks:\n",
        "    try:\n",
        "        # Inisialisasi tokenizer yang sesuai (cl100k_base untuk model seperti text-embedding-ada-002, text-embedding-3-small)\n",
        "        # Jika Anda menggunakan model embedding yang sangat berbeda, Anda mungkin perlu tokenizer yang berbeda.\n",
        "        tokenizer = tiktoken.get_encoding(\"cl100k_base\")\n",
        "        print(\"Tokenizer 'cl100k_base' berhasil dimuat.\")\n",
        "\n",
        "        total_tokens = 0\n",
        "        for i, chunk_doc in enumerate(all_chunks):\n",
        "            if isinstance(chunk_doc, Document) and hasattr(chunk_doc, 'page_content'):\n",
        "                text_content = chunk_doc.page_content\n",
        "                tokens = tokenizer.encode(text_content)\n",
        "                total_tokens += len(tokens)\n",
        "                # (Opsional) Print token count per chunk untuk debugging\n",
        "                # if i < 5: # Tampilkan untuk 5 chunk pertama\n",
        "                #     print(f\"Chunk {i+1}: {len(tokens)} tokens\")\n",
        "            else:\n",
        "                print(f\"Peringatan: Item ke-{i} dalam all_chunks bukan objek Document yang valid atau tidak memiliki page_content.\")\n",
        "\n",
        "        print(f\"\\nTotal Estimasi Token untuk semua {len(all_chunks)} chunks: {total_tokens} tokens\")\n",
        "\n",
        "        # (Opsional) Estimasi Biaya Sederhana (contoh untuk text-embedding-ada-002)\n",
        "        # Harga dapat berubah, selalu cek pricing resmi OpenAI/Azure.\n",
        "        # Contoh harga: $0.0001 per 1K tokens untuk text-embedding-3-small (per Mei 2024, bisa berbeda di Azure)\n",
        "        # Contoh harga: $0.0004 per 1K tokens untuk text-embedding-ada-002 (OpenAI)\n",
        "        cost_per_1k_tokens_ada_002 = 0.0004\n",
        "        cost_per_1k_tokens_text_embedding_3_small = 0.0001 # Periksa harga Azure yang berlaku untuk deployment Anda\n",
        "\n",
        "        estimated_cost_ada_002 = (total_tokens / 1000) * cost_per_1k_tokens_ada_002\n",
        "        estimated_cost_text_embedding_3_small = (total_tokens / 1000) * cost_per_1k_tokens_text_embedding_3_small\n",
        "\n",
        "        print(f\"Estimasi biaya embedding (text-embedding-ada-002 @ ${cost_per_1k_tokens_ada_002}/1k tokens): ${estimated_cost_ada_002:.6f}\")\n",
        "        print(f\"Estimasi biaya embedding (text-embedding-3-small @ ${cost_per_1k_tokens_text_embedding_3_small}/1k tokens): ${estimated_cost_text_embedding_3_small:.6f}\")\n",
        "        print(\"PERHATIAN: Estimasi biaya ini adalah perkiraan kasar. Selalu periksa harga resmi dari penyedia layanan Anda (OpenAI/Azure).\")\n",
        "\n",
        "    except Exception as e:\n",
        "        print(f\"Error saat menghitung token: {e}\")\n",
        "        print(\"Pastikan library 'tiktoken' sudah terinstal (`pip install tiktoken`).\")\n",
        "else:\n",
        "    print(\"Tidak ada chunks untuk dihitung tokennya.\")"
      ]
    },
    {
      "cell_type": "code",
      "execution_count": 6,
      "id": "1fbe6782ee42e1a0",
      "metadata": {},
      "outputs": [
        {
          "name": "stdout",
          "output_type": "stream",
          "text": [
            "Model Azure OpenAI Embeddings ('text-embedding-3-small') berhasil diinisialisasi.\n"
          ]
        }
      ],
      "source": [
        "embeddings_model = None # Inisialisasi\n",
        "# Hanya lanjut jika konfigurasi Azure ada dan chunks berhasil dimuat\n",
        "if all([azure_openai_endpoint, azure_openai_api_key, azure_openai_embedding_deployment]) and all_chunks:\n",
        "    try:\n",
        "        embeddings_model = AzureOpenAIEmbeddings(\n",
        "            azure_endpoint=azure_openai_endpoint,\n",
        "            openai_api_key=azure_openai_api_key,\n",
        "            azure_deployment=azure_openai_embedding_deployment,\n",
        "            openai_api_version=azure_openai_api_version,\n",
        "            # chunk_size=16 # Opsional: LangChain akan menangani chunking untuk embedding jika teks terlalu panjang\n",
        "                           # Namun, model Azure memiliki batasan jumlah input (misal, 16 untuk text-embedding-ada-002 jika dipanggil langsung)\n",
        "                           # LangChain AzureOpenAIEmbeddings menangani batching secara internal.\n",
        "                           # Untuk text-embedding-3-small, batas input per request adalah 2048 token, dan bisa handle array hingga 2048 input.\n",
        "        )\n",
        "        print(f\"Model Azure OpenAI Embeddings ('{azure_openai_embedding_deployment}') berhasil diinisialisasi.\")\n",
        "\n",
        "        # (Opsional) Tes embedding pada teks kecil\n",
        "        # sample_text = \"Ini adalah teks contoh untuk Azure embedding.\"\n",
        "        # sample_embedding = embeddings_model.embed_query(sample_text)\n",
        "        # print(f\"\\nContoh embedding untuk '{sample_text}':\")\n",
        "        # print(sample_embedding[:10]) # Tampilkan 10 elemen pertama dari vektor embedding\n",
        "        # print(f\"Dimensi embedding: {len(sample_embedding)}\")\n",
        "\n",
        "    except Exception as e:\n",
        "        print(f\"Error saat menginisialisasi AzureOpenAIEmbeddings: {e}\")\n",
        "        embeddings_model = None\n",
        "else:\n",
        "    print(\"Tidak dapat menginisialisasi model embedding Azure karena konfigurasi environment atau data chunks tidak ada.\")\n"
      ]
    },
    {
      "cell_type": "code",
      "execution_count": 10,
      "id": "322acf2eb42a6f83",
      "metadata": {},
      "outputs": [
        {
          "name": "stdout",
          "output_type": "stream",
          "text": [
            "Akan menggunakan direktori untuk ChromaDB (Azure): d:\\Zulfi\\CodeLabs\\SeiZen\\SeiZen-RAG\\vector_store\\chroma_db_azure_multi\n",
            "Nama koleksi (Azure): rag_azure_multi_pdf_collection\n",
            "PEMBERSIHAN: Menghapus direktori ChromaDB lama: d:\\Zulfi\\CodeLabs\\SeiZen\\SeiZen-RAG\\vector_store\\chroma_db_azure_multi\n",
            "Error saat menghapus direktori ChromaDB lama: [WinError 32] The process cannot access the file because it is being used by another process: 'd:\\\\Zulfi\\\\CodeLabs\\\\SeiZen\\\\SeiZen-RAG\\\\vector_store\\\\chroma_db_azure_multi\\\\308e9d01-6da8-41c8-bb54-c62f1612ecd0\\\\data_level0.bin'\n",
            "Membuat (atau menimpa) vector store dengan 206 chunks menggunakan Azure Embeddings...\n",
            "ChromaDB vector store berhasil dibuat/diperbarui dan di-persist dengan data baru (Azure).\n"
          ]
        },
        {
          "name": "stderr",
          "output_type": "stream",
          "text": [
            "C:\\Users\\Zulfi\\AppData\\Local\\Temp\\ipykernel_15624\\2832737120.py:32: LangChainDeprecationWarning: Since Chroma 0.4.x the manual persistence method is no longer supported as docs are automatically persisted.\n",
            "  vector_store.persist() # Penting untuk menyimpan perubahan ke disk\n"
          ]
        }
      ],
      "source": [
        "vector_store = None # Inisialisasi\n",
        "if embeddings_model and all_chunks: # Pastikan embeddings_model (Azure) berhasil diinisialisasi\n",
        "    # `project_root` sudah didefinisikan di sel sebelumnya\n",
        "    vector_store_dir = os.path.join(project_root, \"vector_store\", \"chroma_db_azure_multi\") # Nama direktori baru untuk Azure\n",
        "    collection_name = \"rag_azure_multi_pdf_collection\" # Nama koleksi baru untuk Azure\n",
        "\n",
        "    print(f\"Akan menggunakan direktori untuk ChromaDB (Azure): {vector_store_dir}\")\n",
        "    print(f\"Nama koleksi (Azure): {collection_name}\")\n",
        "\n",
        "    # OPSI UNTUK MEMBERSIHKAN DATABASE LAMA ( uncomment jika ingin selalu mulai baru)\n",
        "    # HATI-HATI: Ini akan menghapus semua data di `vector_store_dir`!\n",
        "    clean_start = True # Set ke True untuk menghapus DB lama\n",
        "    if clean_start and os.path.exists(vector_store_dir):\n",
        "        print(f\"PEMBERSIHAN: Menghapus direktori ChromaDB lama: {vector_store_dir}\")\n",
        "        try:\n",
        "            shutil.rmtree(vector_store_dir)\n",
        "            print(\"Direktori ChromaDB lama berhasil dihapus.\")\n",
        "        except Exception as e:\n",
        "            print(f\"Error saat menghapus direktori ChromaDB lama: {e}\")\n",
        "    \n",
        "    os.makedirs(vector_store_dir, exist_ok=True) # Pastikan direktori ada\n",
        "\n",
        "    try:\n",
        "        # Cara paling sederhana adalah menggunakan from_documents jika ini adalah proses indexing utama\n",
        "        print(f\"Membuat (atau menimpa) vector store dengan {len(all_chunks)} chunks menggunakan Azure Embeddings...\")\n",
        "        vector_store = Chroma.from_documents(\n",
        "            documents=all_chunks,\n",
        "            embedding=embeddings_model, # Menggunakan Azure embeddings_model\n",
        "            collection_name=collection_name,\n",
        "            persist_directory=vector_store_dir\n",
        "        )\n",
        "        vector_store.persist() # Penting untuk menyimpan perubahan ke disk\n",
        "        print(\"ChromaDB vector store berhasil dibuat/diperbarui dan di-persist dengan data baru (Azure).\")\n",
        "\n",
        "    except Exception as e:\n",
        "        print(f\"Error saat menginisialisasi atau mengisi ChromaDB dengan Azure Embeddings: {e}\")\n",
        "        vector_store = None\n",
        "else:\n",
        "    print(\"Tidak dapat menginisialisasi ChromaDB karena model embedding Azure atau data chunks tidak ada.\")\n"
      ]
    },
    {
      "cell_type": "code",
      "execution_count": 11,
      "id": "34fc39d56ab60f7a",
      "metadata": {},
      "outputs": [
        {
          "name": "stdout",
          "output_type": "stream",
          "text": [
            "\n",
            "Melakukan similarity search untuk query: 'what is difference between superviced and self-superviced learning?' (menggunakan Azure Embeddings)\n",
            "\n",
            "Ditemukan 3 hasil yang relevan:\n",
            "\n",
            "--- Hasil Pencarian 1 ---\n",
            "Sumber: Self-superviced Learning.pdf, Halaman: 7\n",
            "Konten: As stated in [123], contrastive models tend to be data-\n",
            "hungry and vulnerable to overfitting issues, whereas gen-\n",
            "erative models encounter data-filling challenges and ex-\n",
            "hibit inferior data scaling capabilities when compared to\n",
            "contrastive models. While contrastive models often fo-\n",
            "cus on global vi...\n",
            "\n",
            "--- Hasil Pencarian 2 ---\n",
            "Sumber: Self-superviced Learning.pdf, Halaman: 7\n",
            "Konten: As stated in [123], contrastive models tend to be data-\n",
            "hungry and vulnerable to overfitting issues, whereas gen-\n",
            "erative models encounter data-filling challenges and ex-\n",
            "hibit inferior data scaling capabilities when compared to\n",
            "contrastive models. While contrastive models often fo-\n",
            "cus on global vi...\n",
            "\n",
            "--- Hasil Pencarian 3 ---\n",
            "Sumber: Self-superviced Learning.pdf, Halaman: 0\n",
            "Konten: JOURNAL OF LATEX CLASS FILES, VOL. 14, NO. 8, AUGUST 2015 1\n",
            "A Survey on Self-supervised Learning:\n",
            "Algorithms, Applications, and Future Trends\n",
            "Jie Gui, Senior Member, IEEE,Tuo Chen, Jing Zhang, Senior Member, IEEE,Qiong Cao,\n",
            "Zhenan Sun, Senior Member, IEEE,Hao Luo, Dacheng Tao,Fellow, IEEE\n",
            "Abstract—D...\n"
          ]
        }
      ],
      "source": [
        "if vector_store:\n",
        "    query_text = \"what is difference between superviced and self-superviced learning?\" # Ganti dengan query yang relevan dengan isi PDF Anda\n",
        "    print(f\"\\nMelakukan similarity search untuk query: '{query_text}' (menggunakan Azure Embeddings)\")\n",
        "    try:\n",
        "        search_results = vector_store.similarity_search(query_text, k=3)\n",
        "\n",
        "        if search_results:\n",
        "            print(f\"\\nDitemukan {len(search_results)} hasil yang relevan:\")\n",
        "            for i, doc_result in enumerate(search_results):\n",
        "                print(f\"\\n--- Hasil Pencarian {i+1} ---\")\n",
        "                source_file = doc_result.metadata.get('source', 'Tidak diketahui')\n",
        "                page_number = doc_result.metadata.get('page', 'N/A')\n",
        "                print(f\"Sumber: {source_file}, Halaman: {page_number}\")\n",
        "                print(f\"Konten: {doc_result.page_content[:300]}...\")\n",
        "        else:\n",
        "            print(\"Tidak ada hasil yang ditemukan untuk query tersebut.\")\n",
        "    except Exception as e:\n",
        "        print(f\"Error saat melakukan similarity search: {e}\")\n",
        "else:\n",
        "    print(\"Tidak dapat melakukan pencarian karena vector store tidak terinisialisasi.\")"
      ]
    }
  ],
  "metadata": {
    "kernelspec": {
      "display_name": "backend",
      "language": "python",
      "name": "python3"
    },
    "language_info": {
      "codemirror_mode": {
        "name": "ipython",
        "version": 3
      },
      "file_extension": ".py",
      "mimetype": "text/x-python",
      "name": "python",
      "nbconvert_exporter": "python",
      "pygments_lexer": "ipython3",
      "version": "3.10.16"
    }
  },
  "nbformat": 4,
  "nbformat_minor": 5
}
